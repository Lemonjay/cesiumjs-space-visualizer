{
 "cells": [
  {
   "cell_type": "markdown",
   "metadata": {},
   "source": [
    "<big><b>List of satellites that are currently above algerian territory<b/><big/>"
   ]
  },
  {
   "cell_type": "markdown",
   "metadata": {},
   "source": [
    "This notebook searches among satellites that are in space using their TLE to retrieve and display the ones that are located above the algerian area"
   ]
  },
  {
   "cell_type": "markdown",
   "metadata": {},
   "source": [
    "<big> <b>Installing required packages <b/><big/>"
   ]
  },
  {
   "cell_type": "code",
   "execution_count": 121,
   "metadata": {},
   "outputs": [
    {
     "name": "stdout",
     "output_type": "stream",
     "text": [
      "Requirement already satisfied: pyorbital in /home/tarek/.local/lib/python3.7/site-packages (1.5.0)\n",
      "Requirement already satisfied: numpy!=1.14.0,>=1.11.0 in /home/tarek/.local/lib/python3.7/site-packages (from pyorbital) (1.18.0)\n",
      "Requirement already satisfied: scipy in /home/tarek/.local/lib/python3.7/site-packages (from pyorbital) (1.4.1)\n",
      "Collecting skyfield\n",
      "\u001b[?25l  Downloading https://files.pythonhosted.org/packages/03/61/fb07f4de0577823d45f9702c8136d0b66896a026742bd349967285252178/skyfield-1.16.tar.gz (241kB)\n",
      "\u001b[K     |████████████████████████████████| 245kB 186kB/s eta 0:00:01\n",
      "\u001b[?25hRequirement already satisfied: jplephem>=2.11 in /home/tarek/.local/lib/python3.7/site-packages (from skyfield) (2.12)\n",
      "Requirement already satisfied: numpy in /home/tarek/.local/lib/python3.7/site-packages (from skyfield) (1.18.0)\n",
      "Collecting sgp4>=1.4 (from skyfield)\n",
      "  Downloading https://files.pythonhosted.org/packages/d2/00/3f3699203176017211a71fe16e3fa71bae946ac92ade77d5a2ffc5da8576/sgp4-1.4.tar.gz\n",
      "Building wheels for collected packages: skyfield, sgp4\n",
      "  Building wheel for skyfield (setup.py) ... \u001b[?25ldone\n",
      "\u001b[?25h  Created wheel for skyfield: filename=skyfield-1.16-cp37-none-any.whl size=273610 sha256=de90652e912bec2c386ce43d35981ea03fb11ace12e0dcee0b3e277a50db80b7\n",
      "  Stored in directory: /home/tarek/.cache/pip/wheels/4b/27/4c/29aa7d60909618f39aca67c7170969e2ec6a8c7aebe0c1a455\n",
      "  Building wheel for sgp4 (setup.py) ... \u001b[?25ldone\n",
      "\u001b[?25h  Created wheel for sgp4: filename=sgp4-1.4-cp37-none-any.whl size=35409 sha256=9d7eac2354727883e32f5aca954fe5f4a35e62b45ea94e8a47c1117181f6dc85\n",
      "  Stored in directory: /home/tarek/.cache/pip/wheels/6d/e2/42/5dc20daf2ba62ae03dc8abe10744ee67d9452df447dac561db\n",
      "Successfully built skyfield sgp4\n",
      "Installing collected packages: sgp4, skyfield\n",
      "Successfully installed sgp4-1.4 skyfield-1.16\n",
      "Requirement already satisfied: reverse_geocoder in /home/tarek/.local/lib/python3.7/site-packages (1.5.1)\n",
      "Requirement already satisfied: scipy>=0.17.1 in /home/tarek/.local/lib/python3.7/site-packages (from reverse_geocoder) (1.4.1)\n",
      "Requirement already satisfied: numpy>=1.11.0 in /home/tarek/.local/lib/python3.7/site-packages (from reverse_geocoder) (1.18.0)\n"
     ]
    }
   ],
   "source": [
    "#install required packages\n",
    "import sys \n",
    "\n",
    "!{sys.executable} -m pip install skyfield --user\n",
    "!{sys.executable} -m pip install reverse_geocoder --user\n",
    "\n",
    "# Non necessary packages\n",
    "#!{sys.executable} -m pip install pyorbital --user \n",
    "#!{sys.executable} -m pip install pprint --user\n",
    "#!{sys.executable} -m pip install pyephem --user \n",
    "#!{sys.executable} -m pip install geopy --user \n",
    "#!{sys.executable} -m pip install arcgis --user \n",
    "#!{sys.executable} -m pip install poliastro --user"
   ]
  },
  {
   "cell_type": "markdown",
   "metadata": {},
   "source": [
    "<big><b>Importing needed packages<b/><big/>"
   ]
  },
  {
   "cell_type": "code",
   "execution_count": 8,
   "metadata": {},
   "outputs": [],
   "source": [
    "# Import required packaged\n",
    "\n",
    "import os\n",
    "import re\n",
    "import urllib\n",
    "from skyfield import api as sf\n",
    "from skyfield.api import EarthSatellite, Topos, load\n",
    "import reverse_geocoder as rg\n",
    "from datetime import datetime\n",
    "#from pyorbital.orbital import Orbital\n",
    "#from pyorbital import tlefile"
   ]
  },
  {
   "cell_type": "markdown",
   "metadata": {},
   "source": [
    "<big> <b>Retrieving TLE from Celestrak using Skyfield package<b/><big/>"
   ]
  },
  {
   "cell_type": "code",
   "execution_count": 9,
   "metadata": {},
   "outputs": [],
   "source": [
    "#stations_url = 'http://celestrak.com/NORAD/elements/stations.txt'\n",
    "#satellites = load.tle(stations_url)\n",
    "\n",
    "datadir = os.environ['HOME']+'/programming/python/astro/skyfield-data/'\n",
    "loader = sf.Loader(datadir, expire=False)\n",
    "\n",
    "# Satellite TLEs.\n",
    "celestrak = 'http://celestrak.com/NORAD/elements/'\n",
    "geosats = loader.tle(celestrak+'geo.txt')\n",
    "gpssats = loader.tle(celestrak+'supplemental/gps.txt')\n",
    "sciencesats = loader.tle(celestrak+'science.txt')\n",
    "stationsats = loader.tle(celestrak+'stations.txt')\n",
    "tdrss = loader.tle(celestrak+'tdrss.txt')\n",
    "visualsats = loader.tle(celestrak+'visual.txt')\n",
    "\n",
    "# Make catalogs indexable by either name or catalog number.\n",
    "# Also create sats, a merge of the individual ones.\n",
    "satcats = [geosats, gpssats, sciencesats, stationsats, tdrss, visualsats]\n",
    "sats = {}\n",
    "catalog = {}\n",
    "for cat in satcats:\n",
    "    names = [key for key in cat.keys()]\n",
    "    for name in names:\n",
    "#        print(name)\n",
    "        sat = cat[name]\n",
    "        satnum = sat.model.satnum\n",
    "        cat[satnum]  = sat\n",
    "        sats[satnum] = sat\n",
    "        sats[name]   = sat"
   ]
  },
  {
   "cell_type": "markdown",
   "metadata": {},
   "source": [
    "<big> <b>Function to retrieve Satellites by both name and ID<b/> <big/>"
   ]
  },
  {
   "cell_type": "code",
   "execution_count": 10,
   "metadata": {},
   "outputs": [],
   "source": [
    "def getsat(satid):\n",
    "    \"\"\"\n",
    "    Return a skyfield EarthSatellite.\n",
    "    <satid> is case independent if it is a satellite name (str).\n",
    "    Retrieve directly from Celestrak by ID if not in local database.\n",
    "    \"\"\"\n",
    "    if isinstance(satid, str):\n",
    "        satid = satid.upper()\n",
    "    if satid in sats.keys():\n",
    "        return sats[satid]\n",
    "    if not isinstance(satid, int):\n",
    "        msg = 'satid must be an integer for satellites not in the local set'\n",
    "        raise Exception(msg)\n",
    "    base = 'http://celestrak.com/cgi-bin/TLE.pl?CATNR='\n",
    "    url = base + str(satid)\n",
    "    with urllib.request.urlopen(url) as fd:\n",
    "        lines = fd.readlines()\n",
    "    for k, line in enumerate(lines):\n",
    "        if 'PRE' in line.decode():\n",
    "            name = lines[k+1].decode().strip()\n",
    "            if name == 'No TLE found':\n",
    "                msg = '%i is not in the CelesTrak database!' % satid\n",
    "                raise Exception(msg)\n",
    "            tle1 = lines[k+2].decode().strip()\n",
    "            tle2 = lines[k+3].decode().strip()\n",
    "            break\n",
    "    sat = sf.EarthSatellite(tle1, tle2, name)\n",
    "    return sat"
   ]
  },
  {
   "cell_type": "markdown",
   "metadata": {},
   "source": [
    "<big> <b> Function to get Satellite Latitude and Longitude <b/><big/>"
   ]
  },
  {
   "cell_type": "code",
   "execution_count": 11,
   "metadata": {},
   "outputs": [],
   "source": [
    "def getlonlat(subpoint):\n",
    "    \"\"\"\n",
    "    Function used to retrieve the Satellite's longitude and latitude \n",
    "    from the EarthSattelite.subpoint object\n",
    "    And convert them to degree decimal\n",
    "    \"\"\"\n",
    "    \n",
    "    #LONGITUDE EarthSattelite.Angle object -> Degree Decimal\n",
    "    lon = subpoint.longitude\n",
    "    strlongitude= str(lon)\n",
    "    lonstr =  re.split('[deg\\'\"]', strlongitude)\n",
    "    londeg, lonminute, lonseconde = lonstr[0], lonstr[3], lonstr[4]\n",
    "    longitude = (float(londeg) + float(lonminute)/60 + float(lonseconde)/(60*60))\n",
    "\n",
    "    #LATITUDE EarthSattelite.Angle object -> Degree Decimal\n",
    "    lat = subpoint.latitude\n",
    "    strlatitude= str(lat)\n",
    "    latstr =  re.split('[deg\\'\"]', strlatitude)\n",
    "    latdeg, latminute, latseconde = latstr[0], latstr[3], latstr[4]\n",
    "    latitude = (float(latdeg) + float(latminute)/60 + float(latseconde)/(60*60))\n",
    "    \n",
    "    return longitude, latitude"
   ]
  },
  {
   "cell_type": "markdown",
   "metadata": {},
   "source": [
    "<big><b> Retrieving data of Satellites that are above Algeria <b/><big/>"
   ]
  },
  {
   "cell_type": "code",
   "execution_count": 25,
   "metadata": {},
   "outputs": [
    {
     "name": "stdout",
     "output_type": "stream",
     "text": [
      "Satellite (Name/ID):  14032 - Hauteur (km):  518\n",
      "Satellite (Name/ID):  COSMOS 1455 - Hauteur (km):  518\n",
      "Satellite (Name/ID):  24298 - Hauteur (km):  846\n"
     ]
    }
   ],
   "source": [
    "SatList = []\n",
    "for name in names:\n",
    "    sat = getsat(name)\n",
    "    ts = load.timescale()\n",
    "    t = ts.now()\n",
    "    geometry = sat.at(t)\n",
    "    subpoint = geometry.subpoint()\n",
    "    alt = float(subpoint.elevation.km)\n",
    "    if alt < 1000:\n",
    "        longitude, latitude = getlonlat(subpoint)\n",
    "#        print('Longitude :', longitude, 'Latitude', latitude)\n",
    "        coordinates = (longitude, latitude) # Defining the satellite's coordiantes\n",
    "        SatLocation = rg.search(coordinates) # Reverse geocoding to get the satellite's projection\n",
    "        SatLocation[0]\n",
    "        if SatLocation[0]['cc'] == 'DZ':\n",
    "            altitude = int(subpoint.elevation.km)\n",
    "            SatList.append({'Satellite':name,'Elevation': altitude})\n",
    "            print('Satellite (Name/ID): ', name, '-', 'Hauteur (km): ', altitude)            "
   ]
  },
  {
   "cell_type": "markdown",
   "metadata": {},
   "source": [
    "<big> <b> Displaying retrieved data <b><big/>"
   ]
  },
  {
   "cell_type": "code",
   "execution_count": 27,
   "metadata": {},
   "outputs": [
    {
     "name": "stdout",
     "output_type": "stream",
     "text": [
      "Satellite (Name/ID):  14032  -  Elevation (km):  518\n",
      "Satellite (Name/ID):  COSMOS 1455  -  Elevation (km):  518\n",
      "Satellite (Name/ID):  24298  -  Elevation (km):  846\n"
     ]
    }
   ],
   "source": [
    "for elem in SatList:\n",
    "    print('Satellite (Name/ID): ', elem['Satellite'], ' - ', 'Elevation (km): ', elem['Elevation'])"
   ]
  }
 ],
 "metadata": {
  "kernelspec": {
   "display_name": "Python 3",
   "language": "python",
   "name": "python3"
  },
  "language_info": {
   "codemirror_mode": {
    "name": "ipython",
    "version": 3
   },
   "file_extension": ".py",
   "mimetype": "text/x-python",
   "name": "python",
   "nbconvert_exporter": "python",
   "pygments_lexer": "ipython3",
   "version": "3.7.4"
  }
 },
 "nbformat": 4,
 "nbformat_minor": 2
}
